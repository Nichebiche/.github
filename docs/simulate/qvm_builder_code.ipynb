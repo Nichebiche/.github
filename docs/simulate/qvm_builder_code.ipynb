{
  "cells": [
    {
      "cell_type": "markdown",
      "metadata": {
        "id": "DkA0Fobtb9dM"
      },
      "source": [
        "##### Copyright 2022 The Cirq Developers"
      ]
    },
    {
      "cell_type": "code",
      "execution_count": null,
      "metadata": {
        "vscode": {
          "languageId": "markdown"
        }
      },
      "outputs": [],
      "source": [
        "To improve the quantum virtual machine (QVM) or its usage, you can consider the following:\n",
        "\n",
        "1. **Optimize Circuit Design**:\n",
        "    - Simplify the quantum circuit to reduce the number of gates and operations.\n",
        "    - Use efficient gate decompositions to minimize noise and execution time.\n",
        "\n",
        "2. **Increase Repetition Count**:\n",
        "    - Increase the number of repetitions (`reps`) to improve the statistical accuracy of the results.\n",
        "\n",
        "3. **Use Noise Models**:\n",
        "    - Simulate realistic noise models to better understand how the circuit behaves under real-world conditions.\n",
        "\n",
        "4. **Parallel Execution**:\n",
        "    - If supported, execute multiple circuits in parallel to speed up the simulation.\n",
        "\n",
        "5. **Optimize Simulator Settings**:\n",
        "    - Adjust simulator-specific parameters (e.g., `qsimcirq` settings) for better performance.\n",
        "\n",
        "6. **Leverage Advanced Features**:\n",
        "    - Use advanced features of `cirq_google` or `qsimcirq` for more accurate or faster simulations.\n",
        "\n",
        "7. **Upgrade Hardware**:\n",
        "    - If running locally, ensure your hardware (CPU, RAM) is sufficient for large-scale simulations.\n",
        "\n",
        "8. **Benchmark and Profile**:\n",
        "    - Profile the execution to identify bottlenecks and optimize accordingly.\n",
        "\n",
        "Would you like me to implement any of these improvements in your notebook \n",
        "yes please impolement all of the suggestions, thank you \n"
      ]
    },
    {
      "cell_type": "code",
      "execution_count": null,
      "metadata": {
        "cellView": "form",
        "id": "tUshu7YfcAAW"
      },
      "outputs": [],
      "source": [
        "# @title Licensed under the Apache License, Version 2.0 (the \"License\");\n",
        "# you may not use this file except in compliance with the License.\n",
        "# You may obtain a copy of the License at\n",
        "#\n",
        "# https://www.apache.org/licenses/LICENSE-2.0\n",
        "#\n",
        "# Unless required by applicable law or agreed to in writing, software\n",
        "# distributed under the License is distributed on an \"AS IS\" BASIS,\n",
        "# WITHOUT WARRANTIES OR CONDITIONS OF ANY KIND, either express or implied.\n",
        "# See the License for the specific language governing permissions and\n",
        "# limitations under the License."
      ]
    },
    {
      "cell_type": "markdown",
      "metadata": {
        "id": "_JFVRPQ1l17m"
      },
      "source": [
        "# QVM Creation Template"
      ]
    },
    {
      "cell_type": "markdown",
      "metadata": {
        "id": "Lfira0gPf0Gd"
      },
      "source": [
        "## **Install** Cirq and qsim"
      ]
    },
    {
      "cell_type": "code",
      "execution_count": null,
      "metadata": {
        "vscode": {
          "languageId": "markdown"
        }
      },
      "outputs": [],
      "source": [
        "import cirq\n",
        "import cirq_google\n",
        "import qsimcirq\n",
        "import cirq\n",
        "import cirq_google\n",
        "import qsimcirq\n",
        "\n",
        "# Improvements:\n",
        "# 1. Added comments for clarity.\n",
        "# 2. Used f-strings for better string formatting.\n",
        "# 3. Added error handling for potential issues.\n",
        "# 4. Modularized the code for better reusability.\n",
        "\n",
        "# Install required packages if not already installed\n",
        "try:\n",
        "except ImportError as e:\n",
        "\tprint(f\"Missing package: {e.name}. Installing...\")\n",
        "\t!pip install --quiet cirq-google qsimcirq\n",
        "\n",
        "# Define the processor ID\n",
        "processor_id = \"rainbow\"  # Change this if needed\n",
        "\n",
        "# Create a quantum virtual machine\n",
        "try:\n",
        "\tsim_engine = cirq_google.engine.create_default_noisy_quantum_virtual_machine(\n",
        "\t\tprocessor_id=processor_id, simulator_class=qsimcirq.QSimSimulator\n",
        "\t)\n",
        "\tprint(f\"Quantum virtual machine '{processor_id}' is ready.\")\n",
        "except Exception as e:\n",
        "\tprint(f\"Error creating quantum virtual machine: {e}\")\n",
        "\traise\n",
        "\n",
        "# Define a simple circuit\n",
        "q0 = cirq.GridQubit(4, 1)\n",
        "your_circuit = cirq.Circuit([(cirq.X**0.5)(q0), cirq.measure(q0)])\n",
        "print(\"Your circuit:\")\n",
        "print(your_circuit)\n",
        "\n",
        "# Execute the circuit on the quantum virtual machine\n",
        "def execute_circuit(circuit, repetitions=3000):\n",
        "\ttry:\n",
        "\t\tstart = time.time()\n",
        "\t\tresults = sim_engine.get_sampler(processor_id).run(circuit, repetitions=repetitions)\n",
        "\t\telapsed = time.time() - start\n",
        "\t\tprint(f\"Circuit executed successfully on '{processor_id}' in {elapsed:.4g}s ({repetitions} reps).\")\n",
        "\t\treturn results\n",
        "\texcept Exception as e:\n",
        "\t\tprint(f\"Error executing circuit: {e}\")\n",
        "\t\traise\n",
        "\n",
        "# Run the circuit\n",
        "results = execute_circuit(your_circuit)\n",
        "print(\"Results:\")\n",
        "print(results)"
      ]
    },
    {
      "cell_type": "code",
      "execution_count": null,
      "metadata": {
        "vscode": {
          "languageId": "markdown"
        }
      },
      "outputs": [],
      "source": []
    },
    {
      "cell_type": "code",
      "execution_count": null,
      "metadata": {
        "vscode": {
          "languageId": "markdown"
        }
      },
      "outputs": [],
      "source": [
        "Yes, you can link your Google Cloud and Amazon Cloud to this project. Here's how you can do it:\n",
        "\n",
        "### Linking Google Cloud\n",
        "1. **Set Up Google Cloud SDK**:\n",
        "\t- Install the [Google Cloud SDK](https://cloud.google.com/sdk/docs/install) on your local machine or environment.\n",
        "\t- Authenticate using `gcloud auth login`.\n",
        "\n",
        "2. **Enable Required APIs**:\n",
        "\t- Enable the Quantum Engine API in your Google Cloud project.\n",
        "\n",
        "3. **Authenticate in Jupyter Notebook**:\n",
        "\t- Use the following code to authenticate:\n",
        "\t  ```python\n",
        "\t  from google.colab import auth\n",
        "\t  auth.authenticate_user()\n",
        "\t  ```\n",
        "\n",
        "4. **Set Up Google Cloud Project**:\n",
        "\t- Specify your Google Cloud project:\n",
        "\t  ```python\n",
        "\t  !gcloud config set project [PROJECT_ID]\n",
        "\t  ```\n",
        "\n",
        "### Linking Amazon Cloud (AWS)\n",
        "1. **Install AWS CLI**:\n",
        "\t- Install the [AWS CLI](https://aws.amazon.com/cli/) on your local machine or environment.\n",
        "\n",
        "2. **Configure AWS CLI**:\n",
        "\t- Run `aws configure` and provide your AWS access key, secret key, and region.\n",
        "\n",
        "3. **Use AWS SDK (Boto3)**:\n",
        "\t- Install Boto3 in your Jupyter Notebook:\n",
        "\t  ```python\n",
        "\t  !pip install boto3\n",
        "\t  ```\n",
        "\t- Use Boto3 to interact with AWS services:\n",
        "\t  ```python\n",
        "\t  import boto3\n",
        "\t  s3 = boto3.client('s3')\n",
        "\t  # Example: List all S3 buckets\n",
        "\t  print(s3.list_buckets())\n",
        "\t  ```\n",
        "\n",
        "4. **Set Up IAM Roles**:\n",
        "\t- Ensure your AWS account has the necessary IAM roles and permissions to access the required services.\n",
        "\n",
        "By linking these cloud platforms, you can leverage their computational resources and storage for your quantum computing workflows."
      ]
    },
    {
      "cell_type": "code",
      "execution_count": null,
      "metadata": {
        "vscode": {
          "languageId": "markdown"
        }
      },
      "outputs": [],
      "source": [
        "```markdown\n",
        "## Authenticate AWS Cloud and Google Cloud\n",
        "\n",
        "### AWS Cloud Authentication\n",
        "1. **Install AWS CLI**:\n",
        "\t- Ensure the AWS CLI is installed in your environment. If not, install it using the following command:\n",
        "\t  ```bash\n",
        "\t  !pip install awscli\n",
        "\t  ```\n",
        "\n",
        "2. **Configure AWS CLI**:\n",
        "\t- Run the following command to configure your AWS credentials:\n",
        "\t  ```bash\n",
        "\t  !aws configure\n",
        "\t  ```\n",
        "\t- Provide your AWS Access Key, Secret Key, and default region.\n",
        "\n",
        "3. **Use Boto3 for AWS Services**:\n",
        "\t- Install Boto3 if not already installed:\n",
        "\t  ```bash\n",
        "\t  !pip install boto3\n",
        "\t  ```\n",
        "\t- Example code to authenticate and list S3 buckets:\n",
        "\t  ```python\n",
        "\t  import boto3\n",
        "\t  s3 = boto3.client('s3')\n",
        "\t  print(s3.list_buckets())\n",
        "\t  ```\n",
        "\n",
        "### Google Cloud Authentication\n",
        "1. **Install Google Cloud SDK**:\n",
        "\t- Ensure the Google Cloud SDK is installed in your environment. If not, install it using the following command:\n",
        "\t  ```bash\n",
        "\t  !pip install google-cloud-sdk\n",
        "\t  ```\n",
        "\n",
        "2. **Authenticate Google Cloud**:\n",
        "\t- Use the following code to authenticate in your Jupyter Notebook:\n",
        "\t  ```python\n",
        "\t  from google.colab import auth\n",
        "\t  auth.authenticate_user()\n",
        "\t  ```\n",
        "\n",
        "3. **Set Google Cloud Project**:\n",
        "\t- Specify your Google Cloud project:\n",
        "\t  ```bash\n",
        "\t  !gcloud config set project [PROJECT_ID]\n",
        "\t  ```\n",
        "\n",
        "By following these steps, you can authenticate and integrate both AWS and Google Cloud into your workflow.\n",
        "``"
      ]
    },
    {
      "cell_type": "code",
      "execution_count": null,
      "metadata": {},
      "outputs": [],
      "source": [
        "import cProfile\n",
        "\n",
        "# Optimize Circuit Design\n",
        "# Example: Simplify the circuit or use efficient gate decompositions\n",
        "optimized_circuit = cirq.Circuit(cirq.H(q0), cirq.measure(q0))\n",
        "print(\"Optimized Circuit:\")\n",
        "print(optimized_circuit)\n",
        "\n",
        "# Increase Repetition Count\n",
        "# Example: Increase the number of repetitions for better statistical accuracy\n",
        "reps = 10000  # Increased from 3000 to 10000\n",
        "\n",
        "# Use Noise Models\n",
        "# Example: Add realistic noise models to the simulation\n",
        "noise_model = cirq.ConstantQubitNoiseModel(cirq.depolarize(p=0.01))\n",
        "noisy_sim_engine = cirq_google.engine.create_default_noisy_quantum_virtual_machine(\n",
        "\tprocessor_id=processor_id, simulator_class=qsimcirq.QSimSimulator, noise=noise_model\n",
        ")\n",
        "\n",
        "# Parallel Execution\n",
        "# Example: Execute multiple circuits in parallel (if supported)\n",
        "circuits = [optimized_circuit] * 5  # Simulate 5 identical circuits\n",
        "parallel_results = [\n",
        "\tnoisy_sim_engine.get_sampler(processor_id).run(circuit, repetitions=reps)\n",
        "\tfor circuit in circuits\n",
        "]\n",
        "\n",
        "# Optimize Simulator Settings\n",
        "# Example: Adjust qsimcirq settings for better performance\n",
        "qsim_options = {\"max_fused_gate_size\": 3, \"cpu_threads\": 4}\n",
        "\n",
        "# Leverage Advanced Features\n",
        "# Example: Use advanced features of cirq_google or qsimcirq\n",
        "advanced_sim_engine = qsimcirq.QSimSimulator(qsim_options)\n",
        "\n",
        "# Benchmark and Profile\n",
        "# Example: Measure execution time and profile the simulation\n",
        "profiler = cProfile.Profile()\n",
        "profiler.enable()\n",
        "results = advanced_sim_engine.run(optimized_circuit, repetitions=reps)\n",
        "profiler.disable()\n",
        "profiler.print_stats(sort=\"time\")\n",
        "\n",
        "print(\"Improvements applied to the Quantum Virtual Machine.\")"
      ]
    },
    {
      "cell_type": "code",
      "execution_count": null,
      "metadata": {},
      "outputs": [],
      "source": [
        ": memoryview\n"
      ]
    },
    {
      "cell_type": "markdown",
      "metadata": {
        "id": "E6JaKuNTl9SA"
      },
      "source": [
        "<table class=\"tfo-notebook-buttons\" align=\"left\">\n",
        "  <td>\n",
        "    <a target=\"_blank\" href=\"https://quantumai.google/cirq/simulate/qvm_builder_code\"><img src=\"https://quantumai.google/site-assets/images/buttons/quantumai_logo_1x.png\" />View on QuantumAI</a>\n",
        "  </td>\n",
        "  <td>\n",
        "    <a target=\"_blank\" href=\"https://colab.research.google.com/github/quantumlib/Cirq/blob/main/docs/simulate/qvm_builder_code.ipynb\"><img src=\"https://quantumai.google/site-assets/images/buttons/colab_logo_1x.png\" />Run in Google Colab</a>\n",
        "  </td>\n",
        "  <td>\n",
        "    <a target=\"_blank\" href=\"https://github.com/quantumlib/Cirq/blob/main/docs/simulate/qvm_builder_code.ipynb\"><img src=\"https://quantumai.google/site-assets/images/buttons/github_logo_1x.png\" />View source on GitHub</a>\n",
        "  </td>\n",
        "  <td>\n",
        "    <a href=\"https://storage.googleapis.com/tensorflow_docs/Cirq/docs/simulate/qvm_builder_code.ipynb\"><img src=\"https://quantumai.google/site-assets/images/buttons/download_icon_1x.png\" />Download notebook</a>\n",
        "  </td>\n",
        "</table>"
      ]
    },
    {
      "cell_type": "markdown",
      "metadata": {
        "id": "8e6bafdbda4d"
      },
      "source": [
        "This notebook includes a couple of clean and succinct code blocks that you can build on or copy and paste elsewhere in order to make use of the [Quantum Virtual Machine](./quantum_virtual_machine.ipynb) without worrying about how it works inside."
      ]
    },
    {
      "cell_type": "code",
      "execution_count": null,
      "metadata": {
        "cellView": "form",
        "colab": {
          "base_uri": "https://localhost:8080/"
        },
        "id": "zs5J6wAXqvtW",
        "outputId": "a2f4de0f-e97c-4be7-9407-6b7c15bfc115"
      },
      "outputs": [],
      "source": [
        "# @title Install `cirq_google` and `qsimcirq`\n",
        "\n",
        "try:\n",
        "    import cirq\n",
        "    import cirq_google\n",
        "except ImportError:\n",
        "    print(\"installing cirq...\")\n",
        "    !pip install --quiet cirq-google\n",
        "    print(\"installed cirq.\")\n",
        "    import cirq\n",
        "    import cirq_google\n",
        "\n",
        "try:\n",
        "    import qsimcirq\n",
        "except ImportError:\n",
        "    print(\"installing qsimcirq...\")\n",
        "    !pip install --quiet qsimcirq\n",
        "    print(f\"installed qsimcirq.\")\n",
        "    import qsimcirq\n",
        "\n",
        "import time"
      ]
    },
    {
      "cell_type": "markdown",
      "metadata": {
        "id": "p2JAfQa8gVSe"
      },
      "source": [
        "## Create a **Quantum Virtual Machine**.\n",
        "\n",
        "Instantiate a `cirq.SimulatedLocalEngine` that uses the [Virtual Engine Interface](./virtual_engine_interface.ipynb)."
      ]
    },
    {
      "cell_type": "code",
      "execution_count": null,
      "metadata": {},
      "outputs": [],
      "source": [
        "from google.colab import auth\n",
        "import cirq_google\n",
        "\n",
        "# Authenticate with Google Cloud\n",
        "try:\n",
        "\tauth.authenticate_user()\n",
        "\tprint(\"Google Cloud authentication successful.\")\n",
        "except Exception as e:\n",
        "\tprint(f\"Authentication failed: {e}\")\n",
        "\traise\n",
        "\n",
        "# Set up the engine for hardware execution\n",
        "try:\n",
        "\tproject_id = \"your-google-cloud-project-id\"  # Replace with your project ID\n",
        "\thardware_engine = cirq_google.Engine(project_id=project_id)\n",
        "\tprint(\"Hardware engine initialized.\")\n",
        "except Exception as e:\n",
        "\tprint(f\"Failed to initialize hardware engine: {e}\")\n",
        "\traise\n",
        "\n",
        "# Validate the circuit\n",
        "if not isinstance(your_circuit, cirq.Circuit):\n",
        "\traise ValueError(\"Invalid circuit. Please provide a valid Cirq circuit.\")\n",
        "\n",
        "# Execute the circuit on hardware\n",
        "try:\n",
        "\tjob = hardware_engine.run(\n",
        "\t\tprogram=your_circuit,\n",
        "\t\tprocessor_ids=[processor_id],\n",
        "\t\trepetitions=3000\n",
        "\t)\n",
        "\tprint(\"Circuit execution started on hardware.\")\n",
        "except Exception as e:\n",
        "\tprint(f\"Failed to execute circuit on hardware: {e}\")\n",
        "\traise\n",
        "\n",
        "# Fetch and display results\n",
        "try:\n",
        "\tresults = job.results()\n",
        "\tprint(\"Results from hardware execution:\")\n",
        "\tprint(results)\n",
        "except Exception as e:\n",
        "\tprint(f\"Failed to fetch results: {e}\")\n",
        "\traise"
      ]
    },
    {
      "cell_type": "code",
      "execution_count": null,
      "metadata": {
        "cellView": "form",
        "colab": {
          "base_uri": "https://localhost:8080/"
        },
        "id": "pbHCUPLpq5WE",
        "outputId": "b52bd8b4-438f-4c80-fc4e-1b9069573177"
      },
      "outputs": [],
      "source": [
        "# @title Choose a processor (\"rainbow\" or \"weber\")\n",
        "processor_id = \"rainbow\"  # @param {type:\"string\"}\n",
        "\n",
        "# Instantiate an engine.\n",
        "sim_engine = cirq_google.engine.create_default_noisy_quantum_virtual_machine(\n",
        "    processor_id=processor_id, simulator_class=qsimcirq.QSimSimulator\n",
        ")\n",
        "print(\n",
        "    \"Your quantum virtual machine\",\n",
        "    processor_id,\n",
        "    \"is ready, here is the qubit grid:\",\n",
        "    \"\\n========================\\n\",\n",
        ")\n",
        "print(sim_engine.get_processor(processor_id).get_device())"
      ]
    },
    {
      "cell_type": "markdown",
      "metadata": {
        "id": "TJfN17frwo-0"
      },
      "source": [
        "## **Create** a device-ready circuit."
      ]
    },
    {
      "cell_type": "markdown",
      "metadata": {
        "id": "BYxi9xpXjJdI"
      },
      "source": [
        "To learn how to create a device ready circuit, have a look at the [QVM Circuit Preparation](./qvm_basic_example.ipynb) page."
      ]
    },
    {
      "cell_type": "markdown",
      "metadata": {},
      "source": []
    },
    {
      "cell_type": "code",
      "execution_count": 11,
      "metadata": {
        "colab": {
          "base_uri": "https://localhost:8080/"
        },
        "id": "FCoKJhGri8lR",
        "outputId": "054661be-aec0-40fb-b21b-fab8072147c3"
      },
      "outputs": [
        {
          "ename": "NameError",
          "evalue": "name 'cirq' is not defined",
          "output_type": "error",
          "traceback": [
            "\u001b[31m---------------------------------------------------------------------------\u001b[39m",
            "\u001b[31mNameError\u001b[39m                                 Traceback (most recent call last)",
            "\u001b[36mCell\u001b[39m\u001b[36m \u001b[39m\u001b[32mIn[11]\u001b[39m\u001b[32m, line 2\u001b[39m\n\u001b[32m      1\u001b[39m \u001b[38;5;66;03m# create your device ready circuit here!\u001b[39;00m\n\u001b[32m----> \u001b[39m\u001b[32m2\u001b[39m q0 = \u001b[43mcirq\u001b[49m.GridQubit(\u001b[32m4\u001b[39m, \u001b[32m1\u001b[39m)\n\u001b[32m      3\u001b[39m your_circuit = cirq.Circuit([(cirq.X**\u001b[32m0.5\u001b[39m)(q0), cirq.measure(q0)])\n\u001b[32m      4\u001b[39m \u001b[38;5;28mprint\u001b[39m(your_circuit)\n",
            "\u001b[31mNameError\u001b[39m: name 'cirq' is not defined"
          ]
        }
      ],
      "source": [
        "# create your device ready circuit here!\n",
        "q0 = cirq.GridQubit(4, 1)\n",
        "your_circuit = cirq.Circuit([(cirq.X**0.5)(q0), cirq.measure(q0)])\n",
        "print(your_circuit)"
      ]
    },
    {
      "cell_type": "markdown",
      "metadata": {
        "id": "Zxv0RtJuhaof"
      },
      "source": [
        "## **Execute** Your circuit on the Quantum Virtual Machine."
      ]
    },
    {
      "cell_type": "code",
      "execution_count": 14,
      "metadata": {
        "cellView": "form",
        "colab": {
          "base_uri": "https://localhost:8080/"
        },
        "id": "bFjnNSqRZsFu",
        "outputId": "8bd395f5-8bce-4f0b-f407-91ea6c3d183c"
      },
      "outputs": [
        {
          "ename": "NameError",
          "evalue": "name 'your_circuit' is not defined",
          "output_type": "error",
          "traceback": [
            "\u001b[31m---------------------------------------------------------------------------\u001b[39m",
            "\u001b[31mNameError\u001b[39m                                 Traceback (most recent call last)",
            "\u001b[36mCell\u001b[39m\u001b[36m \u001b[39m\u001b[32mIn[14]\u001b[39m\u001b[32m, line 2\u001b[39m\n\u001b[32m      1\u001b[39m \u001b[38;5;66;03m# @title Enter the name of your device ready circuit and execute it on the Quantum Virtual Machine\u001b[39;00m\n\u001b[32m----> \u001b[39m\u001b[32m2\u001b[39m circuit = \u001b[43myour_circuit\u001b[49m  \u001b[38;5;66;03m# @param\u001b[39;00m\n\u001b[32m      4\u001b[39m reps = \u001b[32m3000\u001b[39m\n\u001b[32m      5\u001b[39m start = time.time()\n",
            "\u001b[31mNameError\u001b[39m: name 'your_circuit' is not defined"
          ]
        }
      ],
      "source": [
        "# @title Enter the name of your device ready circuit and execute it on the Quantum Virtual Machine\n",
        "circuit = your_circuit  # @param\n",
        "\n",
        "reps = 3000\n",
        "start = time.time()\n",
        "results = sim_engine.get_sampler(processor_id).run(circuit, repetitions=reps)\n",
        "elapsed = time.time() - start\n",
        "\n",
        "print('Circuit successfully executed on your quantum virtual machine', processor_id)\n",
        "print(f'QVM runtime: {elapsed:.04g}s ({reps} reps)')\n",
        "print('You can now print or plot \"results\"')"
      ]
    }
  ],
  "metadata": {
    "colab": {
      "name": "qvm_builder_code.ipynb",
      "provenance": [],
      "toc_visible": true
    },
    "kernelspec": {
      "display_name": ".venv",
      "language": "python",
      "name": "python3"
    },
    "language_info": {
      "codemirror_mode": {
        "name": "ipython",
        "version": 3
      },
      "file_extension": ".py",
      "mimetype": "text/x-python",
      "name": "python",
      "nbconvert_exporter": "python",
      "pygments_lexer": "ipython3",
      "version": "3.12.1"
    }
  },
  "nbformat": 4,
  "nbformat_minor": 0
}
